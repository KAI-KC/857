{
 "cells": [
  {
   "cell_type": "markdown",
   "metadata": {},
   "source": [
    "# 目录\n",
    "- 1 打开文件\n",
    "- 2 文件的读写\n",
    "  - 2.1 读数据（read)\n",
    "  - 2.2 读数据（readlines)\n",
    "- 3 追加模式\n",
    "- 4 打开/关闭文件\n",
    "  - 4.1 小练习：\n",
    "- 5 文件的重命名、删除\n",
    "  - 5.1 文件重命名\n",
    "  - 5.2 删除文件\n",
    "- 6 文件夹的相关操作\n",
    "  - 6.1 创建文件夹\n",
    "  - 6.2 获取当前目录\n",
    "  - 6.3 获取目录列表\n",
    "  - 6.4 删除文件夹\n",
    "- 7 应用1：制作文件的备份\n",
    "- 8 应用2：批量修改文件名\n",
    "- 9 附录：os方法大全"
   ]
  },
  {
   "cell_type": "markdown",
   "metadata": {},
   "source": [
    "# I/O操作"
   ]
  },
  {
   "cell_type": "markdown",
   "metadata": {},
   "source": [
    "| 访问模式 | 说明                                                         |\n",
    "| -------- | ------------------------------------------------------------ |\n",
    "| w        | 打开一个文件只用于写入。如果该文件已存在则将其覆盖。如果该文件不存在，创建新文件。 |\n",
    "| a        | 打开一个文件用于追加。如果该文件已存在，文件指针将会放在文件的结尾。也就是说，新的内容将会被写入到已有内容之后。如果该文件不存在，创建新文件进行写入。 |\n",
    "| r        | 以只读方式打开文件。文件的指针将会放在文件的开头。这是默认模式。 |\n",
    "| rb       | 以二进制格式打开一个文件用于只读。文件指针将会放在文件的开头。这是默认模式。 |\n",
    "| wb       | 以二进制格式打开一个文件只用于写入。如果该文件已存在则将其覆盖。如果该文件不存在，创建新文件。 |\n",
    "| ab       | 以二进制格式打开一个文件用于追加。如果该文件已存在，文件指针将会放在文件的结尾。也就是说，新的内容将会被写入到已有内容之后。如果该文件不存在，创建新文件进行写入。 |\n",
    "| r+       | 打开一个文件用于读写。文件指针将会放在文件的开头。           |\n",
    "| w+       | 打开一个文件用于读写。如果该文件已存在则将其覆盖。如果该文件不存在，创建新文件。 |\n",
    "| a+       | 打开一个文件用于读写。如果该文件已存在，文件指针将会放在文件的结尾。文件打开时会是追加模式。如果该文件不存在，创建新文件用于读写。 |\n",
    "| rb+      | 以二进制格式打开一个文件用于读写。文件指针将会放在文件的开头。 |\n",
    "| wb+      | 以二进制格式打开一个文件用于读写。如果该文件已存在则将其覆盖。如果该文件不存在，创建新文件。 |\n",
    "| ab+      | 以二进制格式打开一个文件用于追加。如果该文件已存在，文件指针将会放在文件的结尾。如果该文件不存在，创建新文件用于读写。 |"
   ]
  },
  {
   "cell_type": "markdown",
   "metadata": {
    "collapsed": true
   },
   "source": [
    "## 打开文件"
   ]
  },
  {
   "cell_type": "markdown",
   "metadata": {},
   "source": [
    "在python，使用open函数，可以打开一个已经存在的文件，或者创建一个新文件\n",
    "```python\n",
    "open(文件名，访问模式)\n",
    "```"
   ]
  },
  {
   "cell_type": "code",
   "execution_count": 1,
   "metadata": {},
   "outputs": [],
   "source": [
    "#新建一个文件,并写入数据\n",
    "f = open('drink_wine.txt', 'w') #选择了写的模式,记得写东西进去,区分\"w\"和\"a\" 一个是清空后再写,一个是在已有文本的基础上追加"
   ]
  },
  {
   "cell_type": "code",
   "execution_count": 2,
   "metadata": {},
   "outputs": [
    {
     "data": {
      "text/plain": [
       "239"
      ]
     },
     "execution_count": 2,
     "metadata": {},
     "output_type": "execute_result"
    }
   ],
   "source": [
    "f.write('''将进酒·君不见黄河之水天上来\n",
    "[唐] 李白\n",
    "君不见黄河之水天上来，奔流到海不复回。\n",
    "君不见高堂明镜悲白发，朝如青丝暮成雪。\n",
    "人生得意须尽欢，莫使金樽空对月。\n",
    "天生我材必有用，千金散尽还复来。\n",
    "烹羊宰牛且为乐，会须一饮三百杯。\n",
    "岑夫子，丹丘生，将进酒，杯莫停。\n",
    "与君歌一曲，请君为我倾耳听。\n",
    "钟鼓馔玉不足贵，但愿长醉不复醒。\n",
    "古来圣贤皆寂寞，惟有饮者留其名。\n",
    "陈王昔时宴平乐，斗酒十千恣欢谑。\n",
    "主人何为言少钱，径须沽取对君酌。\n",
    "五花马，千金裘，\n",
    "呼儿将出换美酒，与尔同销万古愁。\n",
    "''')"
   ]
  },
  {
   "cell_type": "code",
   "execution_count": 3,
   "metadata": {},
   "outputs": [],
   "source": [
    "f.close() #关闭文件"
   ]
  },
  {
   "cell_type": "markdown",
   "metadata": {},
   "source": [
    "## 文件的读写"
   ]
  },
  {
   "cell_type": "code",
   "execution_count": 4,
   "metadata": {},
   "outputs": [],
   "source": [
    "# 常见的编码两种: utf-8   gbk"
   ]
  },
  {
   "cell_type": "code",
   "execution_count": 5,
   "metadata": {},
   "outputs": [],
   "source": [
    "# 给文件起个名\n",
    "# file 默认在当前文件夹找, 读模式\n",
    "f = open('drink_wine.txt' , 'r', encoding='utf-8')"
   ]
  },
  {
   "cell_type": "code",
   "execution_count": 6,
   "metadata": {},
   "outputs": [
    {
     "data": {
      "text/plain": [
       "<_io.TextIOWrapper name='drink_wine.txt' mode='r' encoding='utf-8'>"
      ]
     },
     "execution_count": 6,
     "metadata": {},
     "output_type": "execute_result"
    }
   ],
   "source": [
    "f"
   ]
  },
  {
   "cell_type": "code",
   "execution_count": 7,
   "metadata": {},
   "outputs": [
    {
     "data": {
      "text/plain": [
       "_io.TextIOWrapper"
      ]
     },
     "execution_count": 7,
     "metadata": {},
     "output_type": "execute_result"
    }
   ],
   "source": [
    "type(f)"
   ]
  },
  {
   "cell_type": "markdown",
   "metadata": {},
   "source": [
    "### 读数据(read)\n",
    "\n",
    "使用read(num)可以从文件中读取数据，num表示要从文件中读取的数据的长度（单位是字节），如果没有传入num，那么就表示读取文件中所有的数据"
   ]
  },
  {
   "cell_type": "code",
   "execution_count": 8,
   "metadata": {},
   "outputs": [],
   "source": [
    "# 读取文件内容\n",
    "data = f.read()"
   ]
  },
  {
   "cell_type": "code",
   "execution_count": 9,
   "metadata": {},
   "outputs": [
    {
     "name": "stdout",
     "output_type": "stream",
     "text": [
      "将进酒·君不见黄河之水天上来\n",
      "[唐] 李白\n",
      "君不见黄河之水天上来，奔流到海不复回。\n",
      "君不见高堂明镜悲白发，朝如青丝暮成雪。\n",
      "人生得意须尽欢，莫使金樽空对月。\n",
      "天生我材必有用，千金散尽还复来。\n",
      "烹羊宰牛且为乐，会须一饮三百杯。\n",
      "岑夫子，丹丘生，将进酒，杯莫停。\n",
      "与君歌一曲，请君为我倾耳听。\n",
      "钟鼓馔玉不足贵，但愿长醉不复醒。\n",
      "古来圣贤皆寂寞，惟有饮者留其名。\n",
      "陈王昔时宴平乐，斗酒十千恣欢谑。\n",
      "主人何为言少钱，径须沽取对君酌。\n",
      "五花马，千金裘，\n",
      "呼儿将出换美酒，与尔同销万古愁。\n",
      "\n"
     ]
    }
   ],
   "source": [
    "print(data)"
   ]
  },
  {
   "cell_type": "code",
   "execution_count": 10,
   "metadata": {},
   "outputs": [],
   "source": [
    "f.close()"
   ]
  },
  {
   "cell_type": "markdown",
   "metadata": {},
   "source": [
    "注意：\n",
    "\n",
    "如果open是打开一个文件，那么可以不用写打开的模式，即只写 open('test.txt')\n",
    "\n",
    "如果使用读了多次，那么后面读取的数据是从上次读完后的位置开始的"
   ]
  },
  {
   "cell_type": "code",
   "execution_count": 11,
   "metadata": {},
   "outputs": [
    {
     "name": "stdout",
     "output_type": "stream",
     "text": [
      "将进酒\n"
     ]
    }
   ],
   "source": [
    "f = open('drink_wine.txt', 'r')\n",
    "content = f.read(3)\n",
    "print(content)"
   ]
  },
  {
   "cell_type": "code",
   "execution_count": 12,
   "metadata": {},
   "outputs": [
    {
     "data": {
      "text/plain": [
       "'·君不'"
      ]
     },
     "execution_count": 12,
     "metadata": {},
     "output_type": "execute_result"
    }
   ],
   "source": [
    "f.read(3)"
   ]
  },
  {
   "cell_type": "code",
   "execution_count": null,
   "metadata": {},
   "outputs": [],
   "source": []
  },
  {
   "cell_type": "markdown",
   "metadata": {},
   "source": [
    "### 读数据（readlines）"
   ]
  },
  {
   "cell_type": "markdown",
   "metadata": {},
   "source": [
    "就像read没有参数时一样，readlines可以按照行的方式把整个文件中的内容进行一次性读取，并且返回的是一个列表，其中每一行的数据为一个元素"
   ]
  },
  {
   "cell_type": "code",
   "execution_count": 13,
   "metadata": {},
   "outputs": [],
   "source": [
    "f = open('drink_wine.txt' , 'r', encoding='utf-8')"
   ]
  },
  {
   "cell_type": "code",
   "execution_count": 14,
   "metadata": {},
   "outputs": [],
   "source": [
    "data = f.readlines()"
   ]
  },
  {
   "cell_type": "code",
   "execution_count": 15,
   "metadata": {},
   "outputs": [
    {
     "data": {
      "text/plain": [
       "['将进酒·君不见黄河之水天上来\\n',\n",
       " '[唐] 李白\\n',\n",
       " '君不见黄河之水天上来，奔流到海不复回。\\n',\n",
       " '君不见高堂明镜悲白发，朝如青丝暮成雪。\\n',\n",
       " '人生得意须尽欢，莫使金樽空对月。\\n',\n",
       " '天生我材必有用，千金散尽还复来。\\n',\n",
       " '烹羊宰牛且为乐，会须一饮三百杯。\\n',\n",
       " '岑夫子，丹丘生，将进酒，杯莫停。\\n',\n",
       " '与君歌一曲，请君为我倾耳听。\\n',\n",
       " '钟鼓馔玉不足贵，但愿长醉不复醒。\\n',\n",
       " '古来圣贤皆寂寞，惟有饮者留其名。\\n',\n",
       " '陈王昔时宴平乐，斗酒十千恣欢谑。\\n',\n",
       " '主人何为言少钱，径须沽取对君酌。\\n',\n",
       " '五花马，千金裘，\\n',\n",
       " '呼儿将出换美酒，与尔同销万古愁。\\n']"
      ]
     },
     "execution_count": 15,
     "metadata": {},
     "output_type": "execute_result"
    }
   ],
   "source": [
    "data"
   ]
  },
  {
   "cell_type": "code",
   "execution_count": 16,
   "metadata": {},
   "outputs": [],
   "source": [
    "f.close()"
   ]
  },
  {
   "cell_type": "code",
   "execution_count": 17,
   "metadata": {},
   "outputs": [
    {
     "data": {
      "text/plain": [
       "'将进酒·君不见黄河之水天上来\\n'"
      ]
     },
     "execution_count": 17,
     "metadata": {},
     "output_type": "execute_result"
    }
   ],
   "source": [
    "data[0]"
   ]
  },
  {
   "cell_type": "code",
   "execution_count": 18,
   "metadata": {},
   "outputs": [
    {
     "data": {
      "text/plain": [
       "'人生得意须尽欢，莫使金樽空对月。\\n'"
      ]
     },
     "execution_count": 18,
     "metadata": {},
     "output_type": "execute_result"
    }
   ],
   "source": [
    "data[4]"
   ]
  },
  {
   "cell_type": "code",
   "execution_count": 19,
   "metadata": {},
   "outputs": [
    {
     "data": {
      "text/plain": [
       "1503"
      ]
     },
     "execution_count": 19,
     "metadata": {},
     "output_type": "execute_result"
    }
   ],
   "source": [
    "f = open('student_grade.txt', 'w') #新建一个文件并写入内容\n",
    "f.write('''姓名\\t语文\\t数学\\t英语\\t总分\\t班名次\n",
    "杨璐\\t131\\t143\\t144\\t418\\t1\n",
    "王雪\\t131\\t135\\t144\\t410\\t2\n",
    "韩林霖\\t127\\t139\\t142\\t408\\t3\n",
    "沙龙逸\\t123\\t148\\t136\\t407\\t4\n",
    "李鉴学\\t126\\t135\\t140\\t401\\t5\n",
    "韩雨萌\\t129\\t133\\t138\\t400\\t6\n",
    "刘帅\\t116\\t143\\t140\\t399\\t7\n",
    "康惠雯\\t114\\t142\\t139\\t395\\t8\n",
    "刘钰婷\\t115\\t139\\t135\\t389\\t9\n",
    "林世博\\t116\\t142\\t129\\t387\\t10\n",
    "张希\\t123\\t130\\t134\\t387\\t11\n",
    "徐冲\\t122\\t124\\t139\\t385\\t12\n",
    "苑宇飞\\t118\\t136\\t131\\t385\\t13\n",
    "卢一凡\\t121\\t123\\t139\\t383\\t14\n",
    "张瑞鑫\\t126\\t115\\t139\\t380\\t15\n",
    "范作鑫\\t121\\t127\\t131\\t379\\t16\n",
    "裴子翔\\t111\\t139\\t128\\t378\\t17\n",
    "武传禹\\t119\\t129\\t130\\t378\\t18\n",
    "任雪桐\\t124\\t108\\t144\\t376\\t19\n",
    "刘姗\\t124\\t128\\t122\\t374\\t20\n",
    "王柏坤\\t121\\t123\\t128\\t372\\t21\n",
    "赵永刚\\t116\\t131\\t122\\t369\\t22\n",
    "张馨月大\\t114\\t124\\t122\\t360\\t23\n",
    "张曦月\\t116\\t123\\t119\\t358\\t24\n",
    "胡丁文\\t116\\t122\\t118\\t356\\t25\n",
    "赵美欣\\t118\\t126\\t111\\t355\\t26\n",
    "赵殿宇\\t112\\t109\\t130\\t351\\t27\n",
    "张智文\\t109\\t116\\t125\\t350\\t28\n",
    "李季\\t114\\t117\\t118\\t349\\t29\n",
    "杨加晖\\t110\\t102\\t136\\t348\\t30\n",
    "何旭\\t114\\t113\\t120\\t347\\t31\n",
    "张智凯\\t110\\t117\\t119\\t346\\t32\n",
    "张晓爽\\t113\\t113\\t119\\t345\\t33\n",
    "姜美慧\\t117\\t121\\t106\\t344\\t34\n",
    "张埕镒\\t112\\t105\\t126\\t343\\t35\n",
    "贺俊文\\t103\\t127\\t110\\t340\\t36\n",
    "张馨月小\\t108\\t110\\t119\\t337\\t37\n",
    "代诗涵\\t105\\t105\\t126\\t336\\t38\n",
    "艾宇\\t115\\t111\\t106\\t332\\t39\n",
    "黄俊焯\\t101\\t112\\t106\\t319\\t40\n",
    "邹建志\\t98\\t104\\t116\\t318\\t41\n",
    "张俊奎\\t103\\t103\\t111\\t317\\t42\n",
    "孙波\\t96\\t130\\t89\\t315\\t43\n",
    "张良\\t105\\t102\\t105\\t312\\t44\n",
    "王春月\\t118\\t82\\t112\\t312\\t45\n",
    "代明哲\\t101\\t91\\t115\\t307\\t46\n",
    "张开羽\\t112\\t90\\t104\\t306\\t47\n",
    "狄建译\\t109\\t68\\t126\\t303\\t48\n",
    "张家硕\\t107\\t67\\t129\\t303\\t49\n",
    "郭娜\\t94\\t98\\t104\\t296\\t50\n",
    "周坤\\t107\\t76\\t104\\t287\\t51\n",
    "洪禹\\t106\\t100\\t80\\t286\\t52\n",
    "王治超\\t105\\t95\\t82\\t282\\t53\n",
    "臧云飞\\t101\\t59\\t108\\t268\\t54\n",
    "袁茂哲\\t85\\t95\\t85\\t265\\t53\n",
    "丁婉艺\\t95\\t71\\t85\\t251\\t56\n",
    "于娇莹\\t97\\t76\\t71\\t244\\t57\n",
    "刘旭辉\\t99\\t87\\t44\\t230\\t58\n",
    "张宇婷\\t83\\t61\\t71\\t215\\t59\n",
    "黄明涛\\t87\\t77\\t43\\t207\\t60\n",
    "吕文卓\\t82\\t53\\t62\\t197\\t61\n",
    "王晟煜\\t79\\t49\\t64\\t192\\t62\n",
    "孙龙基\\t99\\t21\\t67\\t187\\t63\n",
    "赵森\\t90\\t29\\t64\\t183\\t64\n",
    "满朝升\\t78\\t45\\t47\\t170\\t65\n",
    "李忠浩\\t86\\t32\\t46\\t164\\t66\n",
    "侯禹志\\t75\\t23\\t34\\t132\\t67\n",
    "尹鸿涛\\t66\\t23\\t34\\t123\\t68''')"
   ]
  },
  {
   "cell_type": "code",
   "execution_count": 20,
   "metadata": {},
   "outputs": [],
   "source": [
    "# 固定的代码\n",
    "f = open('student_grade.txt','r')\n",
    "data = f.read()\n",
    "f.close()"
   ]
  },
  {
   "cell_type": "code",
   "execution_count": 21,
   "metadata": {
    "scrolled": true
   },
   "outputs": [
    {
     "data": {
      "text/plain": [
       "['姓名\\t语文\\t数学\\t英语\\t总分\\t班名次',\n",
       " '杨璐\\t131\\t143\\t144\\t418\\t1',\n",
       " '王雪\\t131\\t135\\t144\\t410\\t2',\n",
       " '韩林霖\\t127\\t139\\t142\\t408\\t3',\n",
       " '沙龙逸\\t123\\t148\\t136\\t407\\t4',\n",
       " '李鉴学\\t126\\t135\\t140\\t401\\t5',\n",
       " '韩雨萌\\t129\\t133\\t138\\t400\\t6',\n",
       " '刘帅\\t116\\t143\\t140\\t399\\t7',\n",
       " '康惠雯\\t114\\t142\\t139\\t395\\t8',\n",
       " '刘钰婷\\t115\\t139\\t135\\t389\\t9',\n",
       " '林世博\\t116\\t142\\t129\\t387\\t10',\n",
       " '张希\\t123\\t130\\t134\\t387\\t11',\n",
       " '徐冲\\t122\\t124\\t139\\t385\\t12',\n",
       " '苑宇飞\\t118\\t136\\t131\\t385\\t13',\n",
       " '卢一凡\\t121\\t123\\t139\\t383\\t14',\n",
       " '张瑞鑫\\t126\\t115\\t139\\t380\\t15',\n",
       " '范作鑫\\t121\\t127\\t131\\t379\\t16',\n",
       " '裴子翔\\t111\\t139\\t128\\t378\\t17',\n",
       " '武传禹\\t119\\t129\\t130\\t378\\t18',\n",
       " '任雪桐\\t124\\t108\\t144\\t376\\t19',\n",
       " '刘姗\\t124\\t128\\t122\\t374\\t20',\n",
       " '王柏坤\\t121\\t123\\t128\\t372\\t21',\n",
       " '赵永刚\\t116\\t131\\t122\\t369\\t22',\n",
       " '张馨月大\\t114\\t124\\t122\\t360\\t23',\n",
       " '张曦月\\t116\\t123\\t119\\t358\\t24',\n",
       " '胡丁文\\t116\\t122\\t118\\t356\\t25',\n",
       " '赵美欣\\t118\\t126\\t111\\t355\\t26',\n",
       " '赵殿宇\\t112\\t109\\t130\\t351\\t27',\n",
       " '张智文\\t109\\t116\\t125\\t350\\t28',\n",
       " '李季\\t114\\t117\\t118\\t349\\t29',\n",
       " '杨加晖\\t110\\t102\\t136\\t348\\t30',\n",
       " '何旭\\t114\\t113\\t120\\t347\\t31',\n",
       " '张智凯\\t110\\t117\\t119\\t346\\t32',\n",
       " '张晓爽\\t113\\t113\\t119\\t345\\t33',\n",
       " '姜美慧\\t117\\t121\\t106\\t344\\t34',\n",
       " '张埕镒\\t112\\t105\\t126\\t343\\t35',\n",
       " '贺俊文\\t103\\t127\\t110\\t340\\t36',\n",
       " '张馨月小\\t108\\t110\\t119\\t337\\t37',\n",
       " '代诗涵\\t105\\t105\\t126\\t336\\t38',\n",
       " '艾宇\\t115\\t111\\t106\\t332\\t39',\n",
       " '黄俊焯\\t101\\t112\\t106\\t319\\t40',\n",
       " '邹建志\\t98\\t104\\t116\\t318\\t41',\n",
       " '张俊奎\\t103\\t103\\t111\\t317\\t42',\n",
       " '孙波\\t96\\t130\\t89\\t315\\t43',\n",
       " '张良\\t105\\t102\\t105\\t312\\t44',\n",
       " '王春月\\t118\\t82\\t112\\t312\\t45',\n",
       " '代明哲\\t101\\t91\\t115\\t307\\t46',\n",
       " '张开羽\\t112\\t90\\t104\\t306\\t47',\n",
       " '狄建译\\t109\\t68\\t126\\t303\\t48',\n",
       " '张家硕\\t107\\t67\\t129\\t303\\t49',\n",
       " '郭娜\\t94\\t98\\t104\\t296\\t50',\n",
       " '周坤\\t107\\t76\\t104\\t287\\t51',\n",
       " '洪禹\\t106\\t100\\t80\\t286\\t52',\n",
       " '王治超\\t105\\t95\\t82\\t282\\t53',\n",
       " '臧云飞\\t101\\t59\\t108\\t268\\t54',\n",
       " '袁茂哲\\t85\\t95\\t85\\t265\\t53',\n",
       " '丁婉艺\\t95\\t71\\t85\\t251\\t56',\n",
       " '于娇莹\\t97\\t76\\t71\\t244\\t57',\n",
       " '刘旭辉\\t99\\t87\\t44\\t230\\t58',\n",
       " '张宇婷\\t83\\t61\\t71\\t215\\t59',\n",
       " '黄明涛\\t87\\t77\\t43\\t207\\t60',\n",
       " '吕文卓\\t82\\t53\\t62\\t197\\t61',\n",
       " '王晟煜\\t79\\t49\\t64\\t192\\t62',\n",
       " '孙龙基\\t99\\t21\\t67\\t187\\t63',\n",
       " '赵森\\t90\\t29\\t64\\t183\\t64',\n",
       " '满朝升\\t78\\t45\\t47\\t170\\t65',\n",
       " '李忠浩\\t86\\t32\\t46\\t164\\t66',\n",
       " '侯禹志\\t75\\t23\\t34\\t132\\t67',\n",
       " '尹鸿涛\\t66\\t23\\t34\\t123\\t68']"
      ]
     },
     "execution_count": 21,
     "metadata": {},
     "output_type": "execute_result"
    }
   ],
   "source": [
    "data.splitlines() #按照行('\\r', '\\r\\n', \\n')分隔，返回一个包含各行作为元素的列表"
   ]
  },
  {
   "cell_type": "code",
   "execution_count": 22,
   "metadata": {},
   "outputs": [
    {
     "data": {
      "text/plain": [
       "['杨璐', '131', '143', '144', '418', '1']"
      ]
     },
     "execution_count": 22,
     "metadata": {},
     "output_type": "execute_result"
    }
   ],
   "source": [
    "'杨璐\\t131\\t143\\t144\\t418\\t1'.split('\\t')"
   ]
  },
  {
   "cell_type": "code",
   "execution_count": 23,
   "metadata": {
    "scrolled": true
   },
   "outputs": [],
   "source": [
    "# 建一个空列表\n",
    "student_grade = []\n",
    "for line in data.splitlines():\n",
    "#     print(line)\n",
    "    student_grade.append( line.split('\\t') ) #通过'\\t'对字符串进行切片"
   ]
  },
  {
   "cell_type": "code",
   "execution_count": 24,
   "metadata": {},
   "outputs": [
    {
     "data": {
      "text/plain": [
       "[['姓名', '语文', '数学', '英语', '总分', '班名次'],\n",
       " ['杨璐', '131', '143', '144', '418', '1'],\n",
       " ['王雪', '131', '135', '144', '410', '2'],\n",
       " ['韩林霖', '127', '139', '142', '408', '3'],\n",
       " ['沙龙逸', '123', '148', '136', '407', '4'],\n",
       " ['李鉴学', '126', '135', '140', '401', '5'],\n",
       " ['韩雨萌', '129', '133', '138', '400', '6'],\n",
       " ['刘帅', '116', '143', '140', '399', '7'],\n",
       " ['康惠雯', '114', '142', '139', '395', '8'],\n",
       " ['刘钰婷', '115', '139', '135', '389', '9'],\n",
       " ['林世博', '116', '142', '129', '387', '10'],\n",
       " ['张希', '123', '130', '134', '387', '11'],\n",
       " ['徐冲', '122', '124', '139', '385', '12'],\n",
       " ['苑宇飞', '118', '136', '131', '385', '13'],\n",
       " ['卢一凡', '121', '123', '139', '383', '14'],\n",
       " ['张瑞鑫', '126', '115', '139', '380', '15'],\n",
       " ['范作鑫', '121', '127', '131', '379', '16'],\n",
       " ['裴子翔', '111', '139', '128', '378', '17'],\n",
       " ['武传禹', '119', '129', '130', '378', '18'],\n",
       " ['任雪桐', '124', '108', '144', '376', '19'],\n",
       " ['刘姗', '124', '128', '122', '374', '20'],\n",
       " ['王柏坤', '121', '123', '128', '372', '21'],\n",
       " ['赵永刚', '116', '131', '122', '369', '22'],\n",
       " ['张馨月大', '114', '124', '122', '360', '23'],\n",
       " ['张曦月', '116', '123', '119', '358', '24'],\n",
       " ['胡丁文', '116', '122', '118', '356', '25'],\n",
       " ['赵美欣', '118', '126', '111', '355', '26'],\n",
       " ['赵殿宇', '112', '109', '130', '351', '27'],\n",
       " ['张智文', '109', '116', '125', '350', '28'],\n",
       " ['李季', '114', '117', '118', '349', '29'],\n",
       " ['杨加晖', '110', '102', '136', '348', '30'],\n",
       " ['何旭', '114', '113', '120', '347', '31'],\n",
       " ['张智凯', '110', '117', '119', '346', '32'],\n",
       " ['张晓爽', '113', '113', '119', '345', '33'],\n",
       " ['姜美慧', '117', '121', '106', '344', '34'],\n",
       " ['张埕镒', '112', '105', '126', '343', '35'],\n",
       " ['贺俊文', '103', '127', '110', '340', '36'],\n",
       " ['张馨月小', '108', '110', '119', '337', '37'],\n",
       " ['代诗涵', '105', '105', '126', '336', '38'],\n",
       " ['艾宇', '115', '111', '106', '332', '39'],\n",
       " ['黄俊焯', '101', '112', '106', '319', '40'],\n",
       " ['邹建志', '98', '104', '116', '318', '41'],\n",
       " ['张俊奎', '103', '103', '111', '317', '42'],\n",
       " ['孙波', '96', '130', '89', '315', '43'],\n",
       " ['张良', '105', '102', '105', '312', '44'],\n",
       " ['王春月', '118', '82', '112', '312', '45'],\n",
       " ['代明哲', '101', '91', '115', '307', '46'],\n",
       " ['张开羽', '112', '90', '104', '306', '47'],\n",
       " ['狄建译', '109', '68', '126', '303', '48'],\n",
       " ['张家硕', '107', '67', '129', '303', '49'],\n",
       " ['郭娜', '94', '98', '104', '296', '50'],\n",
       " ['周坤', '107', '76', '104', '287', '51'],\n",
       " ['洪禹', '106', '100', '80', '286', '52'],\n",
       " ['王治超', '105', '95', '82', '282', '53'],\n",
       " ['臧云飞', '101', '59', '108', '268', '54'],\n",
       " ['袁茂哲', '85', '95', '85', '265', '53'],\n",
       " ['丁婉艺', '95', '71', '85', '251', '56'],\n",
       " ['于娇莹', '97', '76', '71', '244', '57'],\n",
       " ['刘旭辉', '99', '87', '44', '230', '58'],\n",
       " ['张宇婷', '83', '61', '71', '215', '59'],\n",
       " ['黄明涛', '87', '77', '43', '207', '60'],\n",
       " ['吕文卓', '82', '53', '62', '197', '61'],\n",
       " ['王晟煜', '79', '49', '64', '192', '62'],\n",
       " ['孙龙基', '99', '21', '67', '187', '63'],\n",
       " ['赵森', '90', '29', '64', '183', '64'],\n",
       " ['满朝升', '78', '45', '47', '170', '65'],\n",
       " ['李忠浩', '86', '32', '46', '164', '66'],\n",
       " ['侯禹志', '75', '23', '34', '132', '67'],\n",
       " ['尹鸿涛', '66', '23', '34', '123', '68']]"
      ]
     },
     "execution_count": 24,
     "metadata": {},
     "output_type": "execute_result"
    }
   ],
   "source": [
    "student_grade"
   ]
  },
  {
   "cell_type": "code",
   "execution_count": 25,
   "metadata": {},
   "outputs": [
    {
     "data": {
      "text/plain": [
       "['杨璐', '131', '143', '144', '418', '1']"
      ]
     },
     "execution_count": 25,
     "metadata": {},
     "output_type": "execute_result"
    }
   ],
   "source": [
    "'杨璐\\t131\\t143\\t144\\t418\\t1'.split('\\t')"
   ]
  },
  {
   "cell_type": "code",
   "execution_count": 26,
   "metadata": {},
   "outputs": [
    {
     "data": {
      "text/plain": [
       "'杨璐'"
      ]
     },
     "execution_count": 26,
     "metadata": {},
     "output_type": "execute_result"
    }
   ],
   "source": [
    "'杨璐\\t131\\t143\\t144\\t418\\t1'.split('\\t')[0]"
   ]
  },
  {
   "cell_type": "code",
   "execution_count": 27,
   "metadata": {},
   "outputs": [
    {
     "data": {
      "text/plain": [
       "['131', '143', '144', '418', '1']"
      ]
     },
     "execution_count": 27,
     "metadata": {},
     "output_type": "execute_result"
    }
   ],
   "source": [
    "'杨璐\\t131\\t143\\t144\\t418\\t1'.split('\\t')[1:]"
   ]
  },
  {
   "cell_type": "code",
   "execution_count": 28,
   "metadata": {},
   "outputs": [],
   "source": [
    "# 处理成字典\n",
    "# 空字典\n",
    "student_dict = {}\n",
    "for line in data.splitlines():\n",
    "    t = line.split('\\t')\n",
    "    student_dict[t[0]] = t[1:]"
   ]
  },
  {
   "cell_type": "code",
   "execution_count": 29,
   "metadata": {},
   "outputs": [
    {
     "data": {
      "text/plain": [
       "['116', '143', '140', '399', '7']"
      ]
     },
     "execution_count": 29,
     "metadata": {},
     "output_type": "execute_result"
    }
   ],
   "source": [
    "student_dict['刘帅']"
   ]
  },
  {
   "cell_type": "code",
   "execution_count": 30,
   "metadata": {},
   "outputs": [
    {
     "data": {
      "text/plain": [
       "'7'"
      ]
     },
     "execution_count": 30,
     "metadata": {},
     "output_type": "execute_result"
    }
   ],
   "source": [
    "student_dict['刘帅'][-1]"
   ]
  },
  {
   "cell_type": "code",
   "execution_count": 31,
   "metadata": {},
   "outputs": [
    {
     "data": {
      "text/plain": [
       "'399'"
      ]
     },
     "execution_count": 31,
     "metadata": {},
     "output_type": "execute_result"
    }
   ],
   "source": [
    "student_dict['刘帅'][-2]"
   ]
  },
  {
   "cell_type": "code",
   "execution_count": 32,
   "metadata": {},
   "outputs": [
    {
     "data": {
      "text/plain": [
       "{'姓名': ['语文', '数学', '英语', '总分', '班名次'],\n",
       " '杨璐': ['131', '143', '144', '418', '1'],\n",
       " '王雪': ['131', '135', '144', '410', '2'],\n",
       " '韩林霖': ['127', '139', '142', '408', '3'],\n",
       " '沙龙逸': ['123', '148', '136', '407', '4'],\n",
       " '李鉴学': ['126', '135', '140', '401', '5'],\n",
       " '韩雨萌': ['129', '133', '138', '400', '6'],\n",
       " '刘帅': ['116', '143', '140', '399', '7'],\n",
       " '康惠雯': ['114', '142', '139', '395', '8'],\n",
       " '刘钰婷': ['115', '139', '135', '389', '9'],\n",
       " '林世博': ['116', '142', '129', '387', '10'],\n",
       " '张希': ['123', '130', '134', '387', '11'],\n",
       " '徐冲': ['122', '124', '139', '385', '12'],\n",
       " '苑宇飞': ['118', '136', '131', '385', '13'],\n",
       " '卢一凡': ['121', '123', '139', '383', '14'],\n",
       " '张瑞鑫': ['126', '115', '139', '380', '15'],\n",
       " '范作鑫': ['121', '127', '131', '379', '16'],\n",
       " '裴子翔': ['111', '139', '128', '378', '17'],\n",
       " '武传禹': ['119', '129', '130', '378', '18'],\n",
       " '任雪桐': ['124', '108', '144', '376', '19'],\n",
       " '刘姗': ['124', '128', '122', '374', '20'],\n",
       " '王柏坤': ['121', '123', '128', '372', '21'],\n",
       " '赵永刚': ['116', '131', '122', '369', '22'],\n",
       " '张馨月大': ['114', '124', '122', '360', '23'],\n",
       " '张曦月': ['116', '123', '119', '358', '24'],\n",
       " '胡丁文': ['116', '122', '118', '356', '25'],\n",
       " '赵美欣': ['118', '126', '111', '355', '26'],\n",
       " '赵殿宇': ['112', '109', '130', '351', '27'],\n",
       " '张智文': ['109', '116', '125', '350', '28'],\n",
       " '李季': ['114', '117', '118', '349', '29'],\n",
       " '杨加晖': ['110', '102', '136', '348', '30'],\n",
       " '何旭': ['114', '113', '120', '347', '31'],\n",
       " '张智凯': ['110', '117', '119', '346', '32'],\n",
       " '张晓爽': ['113', '113', '119', '345', '33'],\n",
       " '姜美慧': ['117', '121', '106', '344', '34'],\n",
       " '张埕镒': ['112', '105', '126', '343', '35'],\n",
       " '贺俊文': ['103', '127', '110', '340', '36'],\n",
       " '张馨月小': ['108', '110', '119', '337', '37'],\n",
       " '代诗涵': ['105', '105', '126', '336', '38'],\n",
       " '艾宇': ['115', '111', '106', '332', '39'],\n",
       " '黄俊焯': ['101', '112', '106', '319', '40'],\n",
       " '邹建志': ['98', '104', '116', '318', '41'],\n",
       " '张俊奎': ['103', '103', '111', '317', '42'],\n",
       " '孙波': ['96', '130', '89', '315', '43'],\n",
       " '张良': ['105', '102', '105', '312', '44'],\n",
       " '王春月': ['118', '82', '112', '312', '45'],\n",
       " '代明哲': ['101', '91', '115', '307', '46'],\n",
       " '张开羽': ['112', '90', '104', '306', '47'],\n",
       " '狄建译': ['109', '68', '126', '303', '48'],\n",
       " '张家硕': ['107', '67', '129', '303', '49'],\n",
       " '郭娜': ['94', '98', '104', '296', '50'],\n",
       " '周坤': ['107', '76', '104', '287', '51'],\n",
       " '洪禹': ['106', '100', '80', '286', '52'],\n",
       " '王治超': ['105', '95', '82', '282', '53'],\n",
       " '臧云飞': ['101', '59', '108', '268', '54'],\n",
       " '袁茂哲': ['85', '95', '85', '265', '53'],\n",
       " '丁婉艺': ['95', '71', '85', '251', '56'],\n",
       " '于娇莹': ['97', '76', '71', '244', '57'],\n",
       " '刘旭辉': ['99', '87', '44', '230', '58'],\n",
       " '张宇婷': ['83', '61', '71', '215', '59'],\n",
       " '黄明涛': ['87', '77', '43', '207', '60'],\n",
       " '吕文卓': ['82', '53', '62', '197', '61'],\n",
       " '王晟煜': ['79', '49', '64', '192', '62'],\n",
       " '孙龙基': ['99', '21', '67', '187', '63'],\n",
       " '赵森': ['90', '29', '64', '183', '64'],\n",
       " '满朝升': ['78', '45', '47', '170', '65'],\n",
       " '李忠浩': ['86', '32', '46', '164', '66'],\n",
       " '侯禹志': ['75', '23', '34', '132', '67'],\n",
       " '尹鸿涛': ['66', '23', '34', '123', '68']}"
      ]
     },
     "execution_count": 32,
     "metadata": {},
     "output_type": "execute_result"
    }
   ],
   "source": [
    "student_dict"
   ]
  },
  {
   "cell_type": "markdown",
   "metadata": {},
   "source": [
    "## 追加模式"
   ]
  },
  {
   "cell_type": "code",
   "execution_count": 33,
   "metadata": {},
   "outputs": [],
   "source": [
    "# 新建文件, 自己起名\n",
    "f = open('mengyou.txt','w',encoding='utf-8')"
   ]
  },
  {
   "cell_type": "code",
   "execution_count": 34,
   "metadata": {},
   "outputs": [],
   "source": [
    "f.write(content)\n",
    "f.close()"
   ]
  },
  {
   "cell_type": "code",
   "execution_count": 35,
   "metadata": {},
   "outputs": [],
   "source": [
    "# 不想删除原来的, 想在后面追加新的内容\n",
    "f = open('mengyou.txt','a',encoding='utf-8')"
   ]
  },
  {
   "cell_type": "code",
   "execution_count": 36,
   "metadata": {},
   "outputs": [],
   "source": [
    "a1 = \"\"\"侠客行\n",
    "[唐] 李白\n",
    "赵客缦胡缨，吴钩霜雪明。\n",
    "银鞍照白马，飒沓如流星。\n",
    "十步杀一人，千里不留行。\n",
    "事了拂衣去，深藏身与名。\n",
    "闲过信陵饮，脱剑膝前横。\n",
    "将炙啖朱亥，持觞劝侯嬴。\n",
    "三杯吐然诺，五岳倒为轻。\n",
    "眼花耳热后，意气素霓生。\n",
    "救赵挥金槌，邯郸先震惊。\n",
    "千秋二壮士，烜赫大梁城。\n",
    "纵死侠骨香，不惭世上英。\n",
    "谁能书阁下，白首太玄经。\"\"\""
   ]
  },
  {
   "cell_type": "code",
   "execution_count": 37,
   "metadata": {},
   "outputs": [],
   "source": [
    "f.write('\\n\\n')\n",
    "f.write(a1)\n",
    "f.close()"
   ]
  },
  {
   "cell_type": "markdown",
   "metadata": {},
   "source": [
    "## 打开/关闭文件\n",
    "执行文件操作时，最后一定不能忘记的操作是关闭文件，即使报错了也要 close。普通的方式是在 finnally 块中显示的调用 close 方法。"
   ]
  },
  {
   "cell_type": "code",
   "execution_count": 38,
   "metadata": {
    "scrolled": true
   },
   "outputs": [
    {
     "name": "stdout",
     "output_type": "stream",
     "text": [
      "utf-8\n"
     ]
    }
   ],
   "source": [
    "f = open('03.Python基础_控制流语句_顺序结构_判断结构_循环结构.ipynb', encoding='utf-8')\n",
    "print(f.encoding)\n",
    "try:\n",
    "    data = f.read()\n",
    "finally:\n",
    "    f.close()"
   ]
  },
  {
   "cell_type": "markdown",
   "metadata": {},
   "source": [
    "如果不关闭文件:\n",
    "1. 会导致内存始终被占用, 得不到释放\n",
    "2. 会导致文件被占用中, 无法删除, 剪切等操作m"
   ]
  },
  {
   "cell_type": "markdown",
   "metadata": {},
   "source": [
    "更简便的写法是这样的:"
   ]
  },
  {
   "cell_type": "code",
   "execution_count": 39,
   "metadata": {},
   "outputs": [],
   "source": [
    "with open('03.Python基础_控制流语句_顺序结构_判断结构_循环结构.ipynb', encoding='utf-8') as f:\n",
    "    data = f.read()\n",
    "# 这样打开的文件, 代码运行结束后会自动关闭"
   ]
  },
  {
   "cell_type": "markdown",
   "metadata": {},
   "source": [
    "1. 以写入方式打开文件\n",
    "2. 写入一些内容\n",
    "3. 重新打开文件, 追加方式\n",
    "4. 追加一些内容\n",
    "5. 只读方式打开文件, 读取文件中的内容"
   ]
  },
  {
   "cell_type": "markdown",
   "metadata": {},
   "source": [
    "### 小练习: \n",
    "\n",
    "https://baike.baidu.com/item/我有一个梦想/1375?fr=aladdin\n",
    "\n",
    "1. 复制中文版文章内容,赋值给变量\n",
    "2. 写入到本地文件中,名称为 我有一个梦想.txt\n",
    "3. 重新打开文件, 在文件后面追加 英文版内容\n",
    "4. 以读取方式打开文件, 把文件内容按换行符进行分割操作"
   ]
  },
  {
   "cell_type": "code",
   "execution_count": 40,
   "metadata": {},
   "outputs": [],
   "source": [
    "dream = \"\"\"一百年前，一位伟大的美国人签署了《解放黑奴宣言》，今天我们就是在他的雕像前集会。这一庄严宣言犹如灯塔的光芒，给千百万在那摧残生命的不义之火中受煎熬的黑奴带来了希望。它之到来犹如欢乐的黎明，结束了束缚黑人的漫长之夜。\n",
    "然而一百年后的今天，我们必须正视黑人还没有得到自由这一悲惨的事实。一百年后的今天，在种族隔离的镣铐和种族歧视的枷锁下，黑人的生活备受压榨；一百年后的今天，黑人仍生活在物质充裕的海洋中一个穷困的孤岛上；一百年后的今天，黑人仍然萎缩在美国社会的角落里，并且，意识到自己是故土家园中的流亡者。今天我们在这里集会，就是要把这种骇人听闻的情况公之于众。\n",
    "就某种意义而言，今天我们是为了要求兑现诺言而汇集到我们国家的首都来的。我们共和国的缔造者草拟宪法和独立宣言时，曾以气壮山河的词句向每一个美国人许下了诺言，他们承诺给予所有的人以不可剥夺的生存、自由和追求幸福的权利。\n",
    "　　就有色公民而论，美国显然没有实践她的诺言。美国没有履行这项神圣的义务，只是给黑人开了一张空头支票，支票上盖上“资金不足”的戳子后便退了回来。但是我们不相信正义的银行已经破产，我们不相信，在这个国家巨大的机会之库里已没有足够的储备。因此今天我们要求将支票兑现这张支票——将给予我们宝贵的自由和正义的保障。\n",
    "我们来到这个圣地也是为了提醒美国，现在是非常急迫的时刻。现在决非侈谈冷静下来或服用渐进主义的镇静剂的时候。现在是实现民主的诺言的时候。现在是从种族隔离的荒凉阴暗的深谷攀登种族平等的光明大道的时候，现在是向上帝所有的儿女开放机会之门的时候。\n",
    "如果美国忽视时间的迫切性和低估黑人的决心，那么，这对美国来说，将是致命伤。自由和平等的爽朗秋天如不到来，黑人义愤填膺的酷暑就不会过去。1963年并不意味着斗争的结束，而是开始。有人希望，黑人只要撒撒气就会满足；如果国家安之若素，毫无反应，这些人必会大失所望的。黑人得不到公民的权利，美国就不可能有安宁或平静；正义的光明的一天不到来，叛乱的旋风就将继续动摇这个国家的基础。\n",
    "　　但是对于等候在正义之宫门口的心急如焚的人们，有些话我是必须说的。在争取合法地位的过程中，我们不要采取错误的做法。我们不要为了满足对自由的渴望而抱着敌对和仇恨之杯痛饮。我们斗争时必须永远举止得体，纪律严明。我们不能容许我们的具有崭新内容的抗议蜕变为暴力行动。我们要不断地升华到以精神力量对付物质力量的崇高境界中去。\n",
    "　　现在黑人社会充满着了不起的新的战斗精神，但是我们却不能因此而不信任所有的白人。因为我们的许多白人兄弟已经认识到，他们的命运与我们的命运是紧密相连的，他们今天参加游行集会就是明证；他们的自由与我们的自由是息息相关的。我们不能单独行动。\n",
    "　　当我们行动时，我们必须保证向前进。我们不能倒退。现在有人问热心民权运动的人，“你们什么时候才能满足？”\n",
    "　　只要黑人仍然遭受警察难以形容的野蛮迫害，我们就绝不会满足。\n",
    "　　只要我们在外奔波而疲乏的身躯不能在公路旁的汽车旅馆和城里的旅馆找到住宿之所，我们就绝不会满足。\n",
    "　　只要黑人的基本活动范围只是从少数民族聚居的小贫民区转移到大贫民区，我们就绝不会满足。\n",
    "　　只要密西西比仍然有一个黑人不能参加选举，只要纽约有一个黑人认为他投票无济于事，我们就绝不会满足。\n",
    "　　不！我们现在并不满足，我们将来也不满足，除非正义和公正犹如江海之波涛，汹涌澎湃，滚滚而来。\n",
    "　　我并非没有注意到，参加今天集会的人中，有些受尽苦难和折磨；有些刚刚走出窄小的牢房，有些由于寻求自由，曾在居住地惨遭疯狂迫害的打击，并在警察暴行的旋风中摇摇欲坠。你们是人为痛苦的长期受难者。坚持下去吧，要坚决相信，忍受不应得的痛苦是一种赎罪。\n",
    "让我们回到密西西比去，回到阿拉巴马去，回到南卡罗来纳去，回到佐治亚去，回到路易斯安那去，回到我们北方城市中的贫民区和少数民族居住区去，要心中有数，这种状况是能够也必将改变的。我们不要陷入绝望而不可自拔。\n",
    "　　朋友们，今天我对你们说，在现在和未来，我们虽然遭受种种困难和挫折，我仍然有一个梦想。这个梦想是深深扎根于美国的梦想中的。\n",
    "　　我梦想有一天，这个国家会站立起来，真正实现其信条的真谛：“我们认为这些真理是不言而喻的——人人生而平等。”\n",
    "　　我梦想有一天，在佐治亚的红山上，昔日奴隶的儿子将能够和昔日奴隶主的儿子坐在一起，共叙兄弟情谊。\n",
    "　　我梦想有一天，甚至连密西西比州这个正义匿迹，压迫成风的地方，也将变成自由和正义的绿洲。\n",
    "　　我梦想有一天，我的四个孩子将在一个不是以他们的肤色，而是以他们的品格优劣来评价他们的国度里生活。\n",
    "　　我今天有一个梦想。\n",
    "　　我梦想有一天，亚拉巴马州能够有所转变，尽管该州州长现在仍然满口异议，反对联邦法令，但有朝一日，那里的黑人男孩和女孩将能与白人男孩和女孩情同骨肉，携手并进。\n",
    "　　我今天有一个梦想。\n",
    "　　我梦想有一天，幽谷上升，高山下降，坎坷曲折之路成坦途，圣光披露，满照人间。\n",
    "　　这就是我们的希望。我怀着这种信念回到南方。有了这个信念，我们将能从绝望之嶙劈出一块希望之石。有了这个信念，我们将能把这个国家刺耳争吵的声，改变成为一支洋溢手足之情的优美交响曲。\n",
    "　　有了这个信念，我们将能一起工作，一起祈祷，一起斗争，一起坐牢，一起维护自由；因为我们知道，终有一天，我们是会自由的。\n",
    "　　在自由到来的那一天，上帝的所有儿女们将以新的含义高唱这支歌：“我的祖国，美丽的自由之乡，我为您歌唱。您是父辈逝去的地方，您是最初移民的骄傲，让自由之声响彻每个山冈。”\n",
    "　　如果美国要成为一个伟大的国家，这个梦想必须实现。让自由之声从新罕布什尔州的巍峨峰巅响起来！让自由之声从纽约州的崇山峻岭响起来！让自由之声从宾夕法尼亚州阿勒格尼山的顶峰响起来！\"\"\""
   ]
  },
  {
   "cell_type": "code",
   "execution_count": null,
   "metadata": {},
   "outputs": [],
   "source": []
  },
  {
   "cell_type": "code",
   "execution_count": null,
   "metadata": {},
   "outputs": [],
   "source": []
  },
  {
   "cell_type": "code",
   "execution_count": null,
   "metadata": {},
   "outputs": [],
   "source": []
  },
  {
   "cell_type": "markdown",
   "metadata": {},
   "source": [
    "## 文件的重命名、删除"
   ]
  },
  {
   "cell_type": "markdown",
   "metadata": {},
   "source": [
    "有些时候，需要对文件进行重命名、删除等一些操作，python的os模块中都有这么功能"
   ]
  },
  {
   "cell_type": "markdown",
   "metadata": {},
   "source": [
    "### 文件重命名\n",
    "\n",
    "os模块中的rename()可以完成对文件的重命名操作\n",
    "\n",
    "rename(需要修改的文件名, 新的文件名)"
   ]
  },
  {
   "cell_type": "code",
   "execution_count": 41,
   "metadata": {},
   "outputs": [],
   "source": [
    "import os"
   ]
  },
  {
   "cell_type": "code",
   "execution_count": 42,
   "metadata": {},
   "outputs": [
    {
     "name": "stdout",
     "output_type": "stream",
     "text": [
      "['CLD_CONTINUED', 'CLD_DUMPED', 'CLD_EXITED', 'CLD_TRAPPED', 'DirEntry', 'EX_CANTCREAT', 'EX_CONFIG', 'EX_DATAERR', 'EX_IOERR', 'EX_NOHOST', 'EX_NOINPUT', 'EX_NOPERM', 'EX_NOUSER', 'EX_OK', 'EX_OSERR', 'EX_OSFILE', 'EX_PROTOCOL', 'EX_SOFTWARE', 'EX_TEMPFAIL', 'EX_UNAVAILABLE', 'EX_USAGE', 'F_LOCK', 'F_OK', 'F_TEST', 'F_TLOCK', 'F_ULOCK', 'MutableMapping', 'NGROUPS_MAX', 'O_ACCMODE', 'O_APPEND', 'O_ASYNC', 'O_CLOEXEC', 'O_CREAT', 'O_DIRECTORY', 'O_DSYNC', 'O_EXCL', 'O_EXLOCK', 'O_NDELAY', 'O_NOCTTY', 'O_NOFOLLOW', 'O_NONBLOCK', 'O_RDONLY', 'O_RDWR', 'O_SHLOCK', 'O_SYNC', 'O_TRUNC', 'O_WRONLY', 'POSIX_SPAWN_CLOSE', 'POSIX_SPAWN_DUP2', 'POSIX_SPAWN_OPEN', 'PRIO_PGRP', 'PRIO_PROCESS', 'PRIO_USER', 'P_ALL', 'P_NOWAIT', 'P_NOWAITO', 'P_PGID', 'P_PID', 'P_WAIT', 'PathLike', 'RTLD_GLOBAL', 'RTLD_LAZY', 'RTLD_LOCAL', 'RTLD_NODELETE', 'RTLD_NOLOAD', 'RTLD_NOW', 'R_OK', 'SCHED_FIFO', 'SCHED_OTHER', 'SCHED_RR', 'SEEK_CUR', 'SEEK_END', 'SEEK_SET', 'ST_NOSUID', 'ST_RDONLY', 'TMP_MAX', 'WCONTINUED', 'WCOREDUMP', 'WEXITED', 'WEXITSTATUS', 'WIFCONTINUED', 'WIFEXITED', 'WIFSIGNALED', 'WIFSTOPPED', 'WNOHANG', 'WNOWAIT', 'WSTOPPED', 'WSTOPSIG', 'WTERMSIG', 'WUNTRACED', 'W_OK', 'X_OK', '_Environ', '__all__', '__builtins__', '__cached__', '__doc__', '__file__', '__loader__', '__name__', '__package__', '__spec__', '_check_methods', '_execvpe', '_exists', '_exit', '_fspath', '_fwalk', '_get_exports_list', '_putenv', '_spawnvef', '_unsetenv', '_wrap_close', 'abc', 'abort', 'access', 'altsep', 'chdir', 'chflags', 'chmod', 'chown', 'chroot', 'close', 'closerange', 'confstr', 'confstr_names', 'cpu_count', 'ctermid', 'curdir', 'defpath', 'device_encoding', 'devnull', 'dup', 'dup2', 'environ', 'environb', 'error', 'execl', 'execle', 'execlp', 'execlpe', 'execv', 'execve', 'execvp', 'execvpe', 'extsep', 'fchdir', 'fchmod', 'fchown', 'fdopen', 'fork', 'forkpty', 'fpathconf', 'fsdecode', 'fsencode', 'fspath', 'fstat', 'fstatvfs', 'fsync', 'ftruncate', 'fwalk', 'get_blocking', 'get_exec_path', 'get_inheritable', 'get_terminal_size', 'getcwd', 'getcwdb', 'getegid', 'getenv', 'getenvb', 'geteuid', 'getgid', 'getgrouplist', 'getgroups', 'getloadavg', 'getlogin', 'getpgid', 'getpgrp', 'getpid', 'getppid', 'getpriority', 'getsid', 'getuid', 'initgroups', 'isatty', 'kill', 'killpg', 'lchflags', 'lchmod', 'lchown', 'linesep', 'link', 'listdir', 'lockf', 'lseek', 'lstat', 'major', 'makedev', 'makedirs', 'minor', 'mkdir', 'mkfifo', 'mknod', 'name', 'nice', 'open', 'openpty', 'pardir', 'path', 'pathconf', 'pathconf_names', 'pathsep', 'pipe', 'popen', 'posix_spawn', 'posix_spawnp', 'pread', 'putenv', 'pwrite', 'read', 'readlink', 'readv', 'register_at_fork', 'remove', 'removedirs', 'rename', 'renames', 'replace', 'rmdir', 'scandir', 'sched_get_priority_max', 'sched_get_priority_min', 'sched_yield', 'sendfile', 'sep', 'set_blocking', 'set_inheritable', 'setegid', 'seteuid', 'setgid', 'setgroups', 'setpgid', 'setpgrp', 'setpriority', 'setregid', 'setreuid', 'setsid', 'setuid', 'spawnl', 'spawnle', 'spawnlp', 'spawnlpe', 'spawnv', 'spawnve', 'spawnvp', 'spawnvpe', 'st', 'stat', 'stat_result', 'statvfs', 'statvfs_result', 'strerror', 'supports_bytes_environ', 'supports_dir_fd', 'supports_effective_ids', 'supports_fd', 'supports_follow_symlinks', 'symlink', 'sync', 'sys', 'sysconf', 'sysconf_names', 'system', 'tcgetpgrp', 'tcsetpgrp', 'terminal_size', 'times', 'times_result', 'truncate', 'ttyname', 'umask', 'uname', 'uname_result', 'unlink', 'unsetenv', 'urandom', 'utime', 'wait', 'wait3', 'wait4', 'waitpid', 'walk', 'write', 'writev']\n"
     ]
    }
   ],
   "source": [
    "print(dir(os))"
   ]
  },
  {
   "cell_type": "code",
   "execution_count": 43,
   "metadata": {},
   "outputs": [],
   "source": [
    "os.rename('drink_wine.txt','将进酒.txt') # 重命名"
   ]
  },
  {
   "cell_type": "code",
   "execution_count": 44,
   "metadata": {},
   "outputs": [
    {
     "name": "stdout",
     "output_type": "stream",
     "text": [
      "将进酒·君不见黄河之水天上来\n",
      "[唐] 李白\n",
      "君不见黄河之水天上来，奔流到海不复回。\n",
      "君不见高堂明镜悲白发，朝如青丝暮成雪。\n",
      "人生得意须尽欢，莫使金樽空对月。\n",
      "天生我材必有用，千金散尽还复来。\n",
      "烹羊宰牛且为乐，会须一饮三百杯。\n",
      "岑夫子，丹丘生，将进酒，杯莫停。\n",
      "与君歌一曲，请君为我倾耳听。\n",
      "钟鼓馔玉不足贵，但愿长醉不复醒。\n",
      "古来圣贤皆寂寞，惟有饮者留其名。\n",
      "陈王昔时宴平乐，斗酒十千恣欢谑。\n",
      "主人何为言少钱，径须沽取对君酌。\n",
      "五花马，千金裘，\n",
      "呼儿将出换美酒，与尔同销万古愁。\n",
      "\n"
     ]
    }
   ],
   "source": [
    "f=open('将进酒.txt','r')\n",
    "data=f.read()\n",
    "print(data)"
   ]
  },
  {
   "cell_type": "markdown",
   "metadata": {},
   "source": [
    "### 删除文件"
   ]
  },
  {
   "cell_type": "markdown",
   "metadata": {},
   "source": [
    "os模块中的remove()可以完成对文件的删除操作\n",
    "\n",
    "remove(待删除的文件名)"
   ]
  },
  {
   "cell_type": "code",
   "execution_count": 45,
   "metadata": {},
   "outputs": [],
   "source": [
    "os.remove('student_grade.txt')"
   ]
  },
  {
   "cell_type": "code",
   "execution_count": 46,
   "metadata": {},
   "outputs": [
    {
     "ename": "FileNotFoundError",
     "evalue": "[Errno 2] No such file or directory: 'student_grade.txt' -> '学生成绩.txt'",
     "output_type": "error",
     "traceback": [
      "\u001b[0;31m---------------------------------------------------------------------------\u001b[0m",
      "\u001b[0;31mFileNotFoundError\u001b[0m                         Traceback (most recent call last)",
      "\u001b[0;32m<ipython-input-46-5dca3df72eae>\u001b[0m in \u001b[0;36m<module>\u001b[0;34m\u001b[0m\n\u001b[0;32m----> 1\u001b[0;31m \u001b[0mos\u001b[0m\u001b[0;34m.\u001b[0m\u001b[0mrename\u001b[0m\u001b[0;34m(\u001b[0m\u001b[0;34m'student_grade.txt'\u001b[0m\u001b[0;34m,\u001b[0m\u001b[0;34m'学生成绩.txt'\u001b[0m\u001b[0;34m)\u001b[0m\u001b[0;34m\u001b[0m\u001b[0;34m\u001b[0m\u001b[0m\n\u001b[0m",
      "\u001b[0;31mFileNotFoundError\u001b[0m: [Errno 2] No such file or directory: 'student_grade.txt' -> '学生成绩.txt'"
     ]
    }
   ],
   "source": [
    "os.rename('student_grade.txt','学生成绩.txt') #没有命名为student_grade.txt的文件，无法完成重命名操作"
   ]
  },
  {
   "cell_type": "markdown",
   "metadata": {},
   "source": [
    "## 文件夹的相关操作"
   ]
  },
  {
   "cell_type": "markdown",
   "metadata": {},
   "source": [
    "### 创建文件夹"
   ]
  },
  {
   "cell_type": "code",
   "execution_count": 47,
   "metadata": {},
   "outputs": [],
   "source": [
    "os.mkdir('新文件夹')"
   ]
  },
  {
   "cell_type": "code",
   "execution_count": 48,
   "metadata": {},
   "outputs": [],
   "source": [
    "os.mkdir('中国河南大学')"
   ]
  },
  {
   "cell_type": "code",
   "execution_count": 49,
   "metadata": {},
   "outputs": [
    {
     "data": {
      "text/plain": [
       "'/Users/z/jupyternotebook/python 基础课程'"
      ]
     },
     "execution_count": 49,
     "metadata": {},
     "output_type": "execute_result"
    }
   ],
   "source": [
    "os.getcwd()"
   ]
  },
  {
   "cell_type": "code",
   "execution_count": 50,
   "metadata": {},
   "outputs": [
    {
     "name": "stdout",
     "output_type": "stream",
     "text": [
      "文件备份_Untitled Folder\n",
      "文件备份_01.Python基础_菜单_快捷键_基本语法_变量_输入输出.ipynb\n",
      "文件备份_将进酒.txt\n",
      "文件备份_mengyou.txt\n",
      "文件备份_06.Python基础_函数.ipynb\n",
      "文件备份_09.Python基础_使用Pymysql操作Mysql储存数据.ipynb\n",
      "文件备份_08.python基础_选学_从硬盘中读写文件.ipynb\n",
      "文件备份_.ipynb_checkpoints\n",
      "文件备份_07.Python基础_模块_常用模块.ipynb\n",
      "文件备份_新文件夹\n",
      "文件备份_05.Python基础_常用内置函数.ipynb\n",
      "文件备份_02.Python基础_标准数据类型_数值型_字符串.ipynb\n",
      "文件备份_10.Python基础_面向对象.ipynb\n",
      "文件备份_中国河南大学\n",
      "文件备份_03.Python基础_控制流语句_顺序结构_判断结构_循环结构.ipynb\n",
      "文件备份_04.Python基础_列表_元组_字典_集合.ipynb\n"
     ]
    }
   ],
   "source": [
    "for i in os.listdir():\n",
    "    d = '文件备份_'+ i\n",
    "    print(d)"
   ]
  },
  {
   "cell_type": "markdown",
   "metadata": {},
   "source": [
    "### 获取当前目录"
   ]
  },
  {
   "cell_type": "code",
   "execution_count": 51,
   "metadata": {},
   "outputs": [],
   "source": [
    "import os"
   ]
  },
  {
   "cell_type": "code",
   "execution_count": 52,
   "metadata": {},
   "outputs": [
    {
     "data": {
      "text/plain": [
       "'/Users/z/jupyternotebook/python 基础课程'"
      ]
     },
     "execution_count": 52,
     "metadata": {},
     "output_type": "execute_result"
    }
   ],
   "source": [
    "os.getcwd()"
   ]
  },
  {
   "cell_type": "markdown",
   "metadata": {},
   "source": [
    "### 获取目录列表"
   ]
  },
  {
   "cell_type": "code",
   "execution_count": 53,
   "metadata": {},
   "outputs": [
    {
     "data": {
      "text/plain": [
       "['Untitled Folder',\n",
       " '01.Python基础_菜单_快捷键_基本语法_变量_输入输出.ipynb',\n",
       " '将进酒.txt',\n",
       " 'mengyou.txt',\n",
       " '06.Python基础_函数.ipynb',\n",
       " '09.Python基础_使用Pymysql操作Mysql储存数据.ipynb',\n",
       " '08.python基础_选学_从硬盘中读写文件.ipynb',\n",
       " '.ipynb_checkpoints',\n",
       " '07.Python基础_模块_常用模块.ipynb',\n",
       " '新文件夹',\n",
       " '05.Python基础_常用内置函数.ipynb',\n",
       " '02.Python基础_标准数据类型_数值型_字符串.ipynb',\n",
       " '10.Python基础_面向对象.ipynb',\n",
       " '中国河南大学',\n",
       " '03.Python基础_控制流语句_顺序结构_判断结构_循环结构.ipynb',\n",
       " '04.Python基础_列表_元组_字典_集合.ipynb']"
      ]
     },
     "execution_count": 53,
     "metadata": {},
     "output_type": "execute_result"
    }
   ],
   "source": [
    "os.listdir() # 查看目录文件列表"
   ]
  },
  {
   "cell_type": "code",
   "execution_count": 55,
   "metadata": {
    "scrolled": true
   },
   "outputs": [
    {
     "data": {
      "text/plain": [
       "['.DS_Store', 'Untitled.ipynb', '作业.ipynb', 'python 基础课程']"
      ]
     },
     "execution_count": 55,
     "metadata": {},
     "output_type": "execute_result"
    }
   ],
   "source": [
    "os.listdir(\"/Users/z/jupyternotebook\") # 查看目录文件列表"
   ]
  },
  {
   "cell_type": "code",
   "execution_count": 56,
   "metadata": {
    "scrolled": true
   },
   "outputs": [
    {
     "data": {
      "text/plain": [
       "['Untitled Folder',\n",
       " '01.Python基础_菜单_快捷键_基本语法_变量_输入输出.ipynb',\n",
       " '将进酒.txt',\n",
       " 'mengyou.txt',\n",
       " '06.Python基础_函数.ipynb',\n",
       " '09.Python基础_使用Pymysql操作Mysql储存数据.ipynb',\n",
       " '08.python基础_选学_从硬盘中读写文件.ipynb',\n",
       " '.ipynb_checkpoints',\n",
       " '07.Python基础_模块_常用模块.ipynb',\n",
       " '新文件夹',\n",
       " '05.Python基础_常用内置函数.ipynb',\n",
       " '02.Python基础_标准数据类型_数值型_字符串.ipynb',\n",
       " '10.Python基础_面向对象.ipynb',\n",
       " '中国河南大学',\n",
       " '03.Python基础_控制流语句_顺序结构_判断结构_循环结构.ipynb',\n",
       " '04.Python基础_列表_元组_字典_集合.ipynb']"
      ]
     },
     "execution_count": 56,
     "metadata": {},
     "output_type": "execute_result"
    }
   ],
   "source": [
    "import os\n",
    "\n",
    "os.listdir()"
   ]
  },
  {
   "cell_type": "markdown",
   "metadata": {},
   "source": [
    "### 删除文件夹"
   ]
  },
  {
   "cell_type": "code",
   "execution_count": 57,
   "metadata": {},
   "outputs": [],
   "source": [
    "os.rmdir('新文件夹')"
   ]
  },
  {
   "cell_type": "code",
   "execution_count": 58,
   "metadata": {},
   "outputs": [],
   "source": [
    "os.rmdir(\"中国河南大学\")"
   ]
  },
  {
   "cell_type": "code",
   "execution_count": 59,
   "metadata": {},
   "outputs": [
    {
     "name": "stdout",
     "output_type": "stream",
     "text": [
      "文件备份_Untitled Folder\n",
      "文件备份_01.Python基础_菜单_快捷键_基本语法_变量_输入输出.ipynb\n",
      "文件备份_将进酒.txt\n",
      "文件备份_mengyou.txt\n",
      "文件备份_06.Python基础_函数.ipynb\n",
      "文件备份_09.Python基础_使用Pymysql操作Mysql储存数据.ipynb\n",
      "文件备份_08.python基础_选学_从硬盘中读写文件.ipynb\n",
      "文件备份_.ipynb_checkpoints\n",
      "文件备份_07.Python基础_模块_常用模块.ipynb\n",
      "文件备份_05.Python基础_常用内置函数.ipynb\n",
      "文件备份_02.Python基础_标准数据类型_数值型_字符串.ipynb\n",
      "文件备份_10.Python基础_面向对象.ipynb\n",
      "文件备份_03.Python基础_控制流语句_顺序结构_判断结构_循环结构.ipynb\n",
      "文件备份_04.Python基础_列表_元组_字典_集合.ipynb\n"
     ]
    }
   ],
   "source": [
    "for i in os.listdir():\n",
    "    d = '文件备份_'+ i\n",
    "    print(d)"
   ]
  },
  {
   "cell_type": "markdown",
   "metadata": {},
   "source": [
    "## 应用1:制作文件的备份"
   ]
  },
  {
   "cell_type": "markdown",
   "metadata": {},
   "source": [
    "1. 新建一个用于备份的文件夹\n",
    "2. 获取待备份文件夹中的所有文件列表\n",
    "3. 循环依次使用open函数读入文件,然后写入到指定的备份文件夹中"
   ]
  },
  {
   "cell_type": "code",
   "execution_count": 77,
   "metadata": {},
   "outputs": [],
   "source": [
    "os.mkdir('操作文件夹')"
   ]
  },
  {
   "cell_type": "code",
   "execution_count": 78,
   "metadata": {},
   "outputs": [],
   "source": [
    "from datetime import datetime\n",
    "dt = datetime.now()\n",
    "time = dt.strftime('%Y%m%d') # 时间字符串\n",
    "pre = '备份文件'\n",
    "# 先检查这个文件夹是否已存在,如果存在,不建立\n",
    "if not os.path.exists('备份文件夹'): #文件为不存在\n",
    "    # 新建文件夹\n",
    "    os.mkdir('备份文件夹')\n",
    "# 获取待备份文件夹中的所有文件列表\n",
    "for filename in os.listdir('操作文件夹'):\n",
    "    f = open(\"操作文件夹/\"+filename , 'r',encoding='utf-8')# 读文件\n",
    "    data = f.read()\n",
    "    f.close()\n",
    "    # 写文件\n",
    "    f = open('备份文件夹/'+time + \"_\"+pre+\"_\"+filename,'w',encoding='utf-8')\n",
    "    f.write(data)\n",
    "    f.close()"
   ]
  },
  {
   "cell_type": "code",
   "execution_count": 79,
   "metadata": {},
   "outputs": [],
   "source": [
    "def 备份文件(copy_path, old_path):\n",
    "    \"\"\"能够对任意文件夹进行备份\n",
    "    参数说明:\n",
    "    copy_path: 想要将文件复制到哪个文件夹\n",
    "    old_path: 从哪里进行备份\"\"\"\n",
    "    from datetime import datetime\n",
    "    dt = datetime.now()\n",
    "    time = dt.strftime('%Y%m%d') # 时间字符串\n",
    "    pre = '备份文件'\n",
    "    # 先检查这个文件夹是否已存在,如果存在,不建立\n",
    "    if not os.path.exists( copy_path ): #文件为不存在\n",
    "        # 新建文件夹\n",
    "        os.mkdir(copy_path)\n",
    "    # 获取待备份文件夹中的所有文件列表\n",
    "    for filename in os.listdir(old_path ):\n",
    "        f = open(old_path+\"/\"+filename , 'rb')# 读文件\n",
    "        data = f.read()\n",
    "        f.close()\n",
    "        # 写文件\n",
    "        f = open(copy_path+'/'+time + \"_\"+pre+\"_\"+filename,'wb')\n",
    "        f.write(data)\n",
    "        f.close()"
   ]
  },
  {
   "cell_type": "code",
   "execution_count": 82,
   "metadata": {},
   "outputs": [],
   "source": [
    "备份文件('新预习课件备份','操作文件夹')"
   ]
  },
  {
   "cell_type": "code",
   "execution_count": 85,
   "metadata": {},
   "outputs": [],
   "source": [
    "os.rmdir('操作文件夹')"
   ]
  },
  {
   "cell_type": "markdown",
   "metadata": {},
   "source": [
    "## 应用2：批量修改文件名"
   ]
  },
  {
   "cell_type": "code",
   "execution_count": 86,
   "metadata": {},
   "outputs": [],
   "source": [
    "os.mkdir('操作文件夹')"
   ]
  },
  {
   "cell_type": "code",
   "execution_count": 87,
   "metadata": {},
   "outputs": [
    {
     "data": {
      "text/plain": [
       "[]"
      ]
     },
     "execution_count": 87,
     "metadata": {},
     "output_type": "execute_result"
    }
   ],
   "source": [
    "# 获取文件夹下面的所有文件\n",
    "os.listdir('操作文件夹')"
   ]
  },
  {
   "cell_type": "code",
   "execution_count": 88,
   "metadata": {},
   "outputs": [],
   "source": [
    "s = '666.txt'"
   ]
  },
  {
   "cell_type": "code",
   "execution_count": 89,
   "metadata": {},
   "outputs": [],
   "source": [
    "pre = '[备份文件] - '"
   ]
  },
  {
   "cell_type": "code",
   "execution_count": 90,
   "metadata": {},
   "outputs": [
    {
     "data": {
      "text/plain": [
       "'[备份文件] - 666.txt'"
      ]
     },
     "execution_count": 90,
     "metadata": {},
     "output_type": "execute_result"
    }
   ],
   "source": [
    "pre+s"
   ]
  },
  {
   "cell_type": "code",
   "execution_count": 91,
   "metadata": {},
   "outputs": [],
   "source": [
    "pre = '[备份文件] - '\n",
    "for filename in os.listdir('操作文件夹'): \n",
    "    os.rename( '操作文件夹/'+filename,'操作文件夹/'+pre+filename)"
   ]
  },
  {
   "cell_type": "code",
   "execution_count": 92,
   "metadata": {},
   "outputs": [],
   "source": [
    "# 只改txt后缀的文件\n",
    "pre = '[数据文件] - '\n",
    "\n",
    "for filename in os.listdir('操作文件夹'):\n",
    "    # 判断是不是txt文件\n",
    "    if filename[-4:] == '.txt':\n",
    "        os.rename( '操作文件夹/'+filename,'操作文件夹/'+pre+filename)"
   ]
  },
  {
   "cell_type": "markdown",
   "metadata": {},
   "source": [
    "## 附录: os方法大全\n",
    "```python\n",
    "import os\n",
    "\n",
    "print(os.getcwd())        # 获得当前工作目录\n",
    "print(os.chdir(\"dirname\")) # 改变当前脚本的工作路径，相当于shell下的cd\n",
    "print(os.curdir)            # 返回当前目录‘.'\n",
    "print(os.pardir)            # 获取当前目录的父目录字符串名‘..'\n",
    "print(os.makedirs('dirname1/dirname2'))     # 可生成多层递归目录\n",
    "print(os.removedirs('dirname1/dirname2'))      # 若目录为空，则删除，并递归到上一级目录，如若也为空，则删除，依此类推\n",
    "print(os.mkdir('test4'))         # 生成单级目录；相当于shell中mkdir dirname\n",
    "print(os.rmdir('test4'))        # 删除单级空目录，若目录不为空则无法删除，报错；相当于shell中rmdir dirname\n",
    "print(os.listdir('/pythonStudy/s12/test'))   # 列出指定目录下的所有文件和子目录，包括隐藏文件，并以列表方式打印\n",
    "print(os.remove('log.log'))            # 删除一个指定的文件\n",
    "print(os.rename(\"oldname\",\"newname\"))    # 重命名文件/目录)\n",
    "print(os.stat('/pythonStudy/s12/test'))     # 获取文件/目录信息\n",
    "print(os.pathsep)            # 输出用于分割文件路径的字符串';'\n",
    "print(os.name)               # 输出字符串指示当前使用平台。win->'nt'; Linux->'posix'\n",
    "print(os.system(command='bash'))   # 运行shell命令，直接显示\n",
    "print(os.environ)                  # 获得系统的环境变量\n",
    "print(os.path.abspath('/pythonStudy/s12/test'))   # 返回path规范化的绝对路径\n",
    "print(os.path.split('/pythonStudy/s12/test'))     # 将path分割成目录和文件名二元组返回\n",
    "print(os.path.dirname('/pythonStudy/s12/test'))    # 返回path的目录。其实就是os.path.split(path)的第一个元素\n",
    "print(os.path.basename('/pythonStudy/s12/test'))   # 返回path最后的文件名。如果path以／或\\结尾，那么就会返回空值。即os.path.split(path)的第二个元素\n",
    "print(os.path.exists('test'))                 # 判断path是否存在\n",
    "print(os.path.isabs('/pythonStudy/s12/test'))    # 如果path是绝对路径，返回True\n",
    "print(os.path.isfile('test'))                   # 如果path是一个存在的文件，返回True。否则返回False\n",
    "print(os.path.isdir('/pythonStudy/s12/test'))    # 如果path是一个存在的目录，则返回True。否则返回False\n",
    "print(os.path.getatime('/pythonStudy/s12/test'))   # 返回path所指向的文件或者目录的最后存取时间\n",
    "print(os.path.getmtime('/pythonStudy/s12/test'))   # 返回path所指向的文件或者目录的最后修改时间\n",
    "\n",
    "```"
   ]
  }
 ],
 "metadata": {
  "kernelspec": {
   "display_name": "Python 3",
   "language": "python",
   "name": "python3"
  },
  "language_info": {
   "codemirror_mode": {
    "name": "ipython",
    "version": 3
   },
   "file_extension": ".py",
   "mimetype": "text/x-python",
   "name": "python",
   "nbconvert_exporter": "python",
   "pygments_lexer": "ipython3",
   "version": "3.8.8"
  },
  "toc": {
   "base_numbering": 1,
   "nav_menu": {},
   "number_sections": true,
   "sideBar": true,
   "skip_h1_title": true,
   "title_cell": "目录",
   "title_sidebar": "目录",
   "toc_cell": true,
   "toc_position": {
    "height": "calc(100% - 180px)",
    "left": "10px",
    "top": "150px",
    "width": "230.39999389648438px"
   },
   "toc_section_display": true,
   "toc_window_display": true
  }
 },
 "nbformat": 4,
 "nbformat_minor": 2
}
